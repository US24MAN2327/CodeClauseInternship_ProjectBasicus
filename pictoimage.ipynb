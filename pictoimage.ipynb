{
  "nbformat": 4,
  "nbformat_minor": 0,
  "metadata": {
    "colab": {
      "provenance": []
    },
    "kernelspec": {
      "name": "python3",
      "display_name": "Python 3"
    },
    "language_info": {
      "name": "python"
    }
  },
  "cells": [
    {
      "cell_type": "code",
      "execution_count": 2,
      "metadata": {
        "colab": {
          "base_uri": "https://localhost:8080/"
        },
        "id": "x7IAFsGRcdWP",
        "outputId": "38568cfd-4ec1-463a-b83a-3608495a0f28"
      },
      "outputs": [
        {
          "output_type": "stream",
          "name": "stdout",
          "text": [
            "Requirement already satisfied: opencv-python in /usr/local/lib/python3.10/dist-packages (4.8.0.76)\n",
            "Requirement already satisfied: numpy>=1.21.2 in /usr/local/lib/python3.10/dist-packages (from opencv-python) (1.23.5)\n"
          ]
        }
      ],
      "source": [
        "! pip install opencv-python"
      ]
    },
    {
      "cell_type": "code",
      "source": [
        "import cv2"
      ],
      "metadata": {
        "id": "67Y5WQMlh4cz"
      },
      "execution_count": 17,
      "outputs": []
    },
    {
      "cell_type": "code",
      "source": [
        "pic = cv2.imread('/content/test2.jpg')"
      ],
      "metadata": {
        "id": "HWXZ5Qj7h6h5"
      },
      "execution_count": 18,
      "outputs": []
    },
    {
      "cell_type": "code",
      "source": [
        "picgrayscale = cv2.cvtColor(pic, cv2.COLOR_BGR2GRAY)"
      ],
      "metadata": {
        "id": "4uoDvITEh8w0"
      },
      "execution_count": 19,
      "outputs": []
    },
    {
      "cell_type": "code",
      "source": [
        "inverse = cv2.bitwise_not(picgrayscale)"
      ],
      "metadata": {
        "id": "WDcEpG8ih-6_"
      },
      "execution_count": 20,
      "outputs": []
    },
    {
      "cell_type": "code",
      "source": [
        "blurring = cv2.GaussianBlur(inverse, (21, 21), 0)"
      ],
      "metadata": {
        "id": "IefYpjP2iA5d"
      },
      "execution_count": 21,
      "outputs": []
    },
    {
      "cell_type": "code",
      "source": [
        "inverseblurring = cv2.bitwise_not(blurring)"
      ],
      "metadata": {
        "id": "tPzsHpnoiC1a"
      },
      "execution_count": 22,
      "outputs": []
    },
    {
      "cell_type": "code",
      "source": [
        "pencilsketch = cv2.divide(picgrayscale, inverseblurring, scale=256.0)"
      ],
      "metadata": {
        "id": "DF9KoCnBiEm7"
      },
      "execution_count": 23,
      "outputs": []
    },
    {
      "cell_type": "code",
      "source": [
        "cv2.imwrite(\"pencil.png\", pencilsketch)"
      ],
      "metadata": {
        "colab": {
          "base_uri": "https://localhost:8080/"
        },
        "id": "kudnvzVqiHQS",
        "outputId": "50b9960f-fcbd-45fd-e8f0-2d5f3fa58731"
      },
      "execution_count": 24,
      "outputs": [
        {
          "output_type": "execute_result",
          "data": {
            "text/plain": [
              "True"
            ]
          },
          "metadata": {},
          "execution_count": 24
        }
      ]
    },
    {
      "cell_type": "code",
      "source": [
        "\n"
      ],
      "metadata": {
        "colab": {
          "base_uri": "https://localhost:8080/"
        },
        "id": "r4uYrT5Gdt_8",
        "outputId": "ffdaa300-f83d-4353-cf96-8fad5d2f0245"
      },
      "execution_count": 6,
      "outputs": [
        {
          "output_type": "execute_result",
          "data": {
            "text/plain": [
              "True"
            ]
          },
          "metadata": {},
          "execution_count": 6
        }
      ]
    }
  ]
}